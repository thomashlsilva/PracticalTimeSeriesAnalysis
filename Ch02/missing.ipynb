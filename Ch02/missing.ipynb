{
 "cells": [
  {
   "cell_type": "code",
   "execution_count": 2,
   "id": "04d4b563-d26c-48dc-98ca-7ea74fe30a98",
   "metadata": {},
   "outputs": [
    {
     "name": "stderr",
     "output_type": "stream",
     "text": [
      "Carregando pacotes exigidos: zoo\n",
      "\n",
      "\n",
      "Anexando pacote: ‘zoo’\n",
      "\n",
      "\n",
      "Os seguintes objetos são mascarados por ‘package:base’:\n",
      "\n",
      "    as.Date, as.Date.numeric\n",
      "\n",
      "\n"
     ]
    }
   ],
   "source": [
    "require(zoo)"
   ]
  },
  {
   "cell_type": "markdown",
   "id": "d83e0922-251d-4828-9c28-4c94a283248a",
   "metadata": {},
   "source": [
    "Carrega o pacote zoo, que fornece funções para manipulação de séries temporais e objetos de dados ordenados"
   ]
  },
  {
   "cell_type": "code",
   "execution_count": 3,
   "id": "45d80d17-0c57-4582-a085-4486da25c873",
   "metadata": {},
   "outputs": [
    {
     "name": "stderr",
     "output_type": "stream",
     "text": [
      "Carregando pacotes exigidos: data.table\n",
      "\n",
      "\n",
      "Anexando pacote: ‘data.table’\n",
      "\n",
      "\n",
      "Os seguintes objetos são mascarados por ‘package:zoo’:\n",
      "\n",
      "    yearmon, yearqtr\n",
      "\n",
      "\n"
     ]
    }
   ],
   "source": [
    "require(data.table)"
   ]
  },
  {
   "cell_type": "markdown",
   "id": "5d8765a5-f005-46ff-9480-13ca77d7dece",
   "metadata": {},
   "source": [
    "Carrega o pacote data.table, que melhora a manipulação de tabelas de dados em R, oferecendo funções eficientes e rápidas para leitura, filtragem, agregação e manipulação de grandes conjuntos de dados."
   ]
  },
  {
   "cell_type": "code",
   "execution_count": 7,
   "id": "9b385158-161e-45d4-aaf3-0b48bdb144c9",
   "metadata": {},
   "outputs": [
    {
     "data": {
      "text/html": [
       "<table class=\"dataframe\">\n",
       "<caption>A data.table: 6 × 2</caption>\n",
       "<thead>\n",
       "\t<tr><th scope=col>DATE</th><th scope=col>UNRATE</th></tr>\n",
       "\t<tr><th scope=col>&lt;IDate&gt;</th><th scope=col>&lt;dbl&gt;</th></tr>\n",
       "</thead>\n",
       "<tbody>\n",
       "\t<tr><td>1948-01-01</td><td>3.4</td></tr>\n",
       "\t<tr><td>1948-02-01</td><td>3.8</td></tr>\n",
       "\t<tr><td>1948-03-01</td><td>4.0</td></tr>\n",
       "\t<tr><td>1948-04-01</td><td>3.9</td></tr>\n",
       "\t<tr><td>1948-05-01</td><td>3.5</td></tr>\n",
       "\t<tr><td>1948-06-01</td><td>3.6</td></tr>\n",
       "</tbody>\n",
       "</table>\n"
      ],
      "text/latex": [
       "A data.table: 6 × 2\n",
       "\\begin{tabular}{ll}\n",
       " DATE & UNRATE\\\\\n",
       " <IDate> & <dbl>\\\\\n",
       "\\hline\n",
       "\t 1948-01-01 & 3.4\\\\\n",
       "\t 1948-02-01 & 3.8\\\\\n",
       "\t 1948-03-01 & 4.0\\\\\n",
       "\t 1948-04-01 & 3.9\\\\\n",
       "\t 1948-05-01 & 3.5\\\\\n",
       "\t 1948-06-01 & 3.6\\\\\n",
       "\\end{tabular}\n"
      ],
      "text/markdown": [
       "\n",
       "A data.table: 6 × 2\n",
       "\n",
       "| DATE &lt;IDate&gt; | UNRATE &lt;dbl&gt; |\n",
       "|---|---|\n",
       "| 1948-01-01 | 3.4 |\n",
       "| 1948-02-01 | 3.8 |\n",
       "| 1948-03-01 | 4.0 |\n",
       "| 1948-04-01 | 3.9 |\n",
       "| 1948-05-01 | 3.5 |\n",
       "| 1948-06-01 | 3.6 |\n",
       "\n"
      ],
      "text/plain": [
       "  DATE       UNRATE\n",
       "1 1948-01-01 3.4   \n",
       "2 1948-02-01 3.8   \n",
       "3 1948-03-01 4.0   \n",
       "4 1948-04-01 3.9   \n",
       "5 1948-05-01 3.5   \n",
       "6 1948-06-01 3.6   "
      ]
     },
     "metadata": {},
     "output_type": "display_data"
    }
   ],
   "source": [
    "unemp <- fread(\"/home/thomas/projects/PracticalTimeSeriesAnalysis/Ch02/data/UNRATE.csv\")\n",
    "head(unemp)"
   ]
  },
  {
   "cell_type": "markdown",
   "id": "fe75427c-fc66-4e8a-b21f-c1b4f6011ac8",
   "metadata": {},
   "source": [
    "Usa a função fread() do pacote data.table para ler o arquivo CSV localizado no caminho \"data/UNRATE.csv\" de forma rápida e eficiente. Essa função é similar à read.csv(), porém muito mais rápida, especialmente para arquivos grandes."
   ]
  },
  {
   "cell_type": "code",
   "execution_count": 8,
   "id": "a71d2ed7-abf3-4c64-a975-65746e1f8cae",
   "metadata": {},
   "outputs": [
    {
     "data": {
      "text/html": [
       "<table class=\"dataframe\">\n",
       "<caption>A data.table: 6 × 2</caption>\n",
       "<thead>\n",
       "\t<tr><th scope=col>DATE</th><th scope=col>UNRATE</th></tr>\n",
       "\t<tr><th scope=col>&lt;date&gt;</th><th scope=col>&lt;dbl&gt;</th></tr>\n",
       "</thead>\n",
       "<tbody>\n",
       "\t<tr><td>1948-01-01</td><td>3.4</td></tr>\n",
       "\t<tr><td>1948-02-01</td><td>3.8</td></tr>\n",
       "\t<tr><td>1948-03-01</td><td>4.0</td></tr>\n",
       "\t<tr><td>1948-04-01</td><td>3.9</td></tr>\n",
       "\t<tr><td>1948-05-01</td><td>3.5</td></tr>\n",
       "\t<tr><td>1948-06-01</td><td>3.6</td></tr>\n",
       "</tbody>\n",
       "</table>\n"
      ],
      "text/latex": [
       "A data.table: 6 × 2\n",
       "\\begin{tabular}{ll}\n",
       " DATE & UNRATE\\\\\n",
       " <date> & <dbl>\\\\\n",
       "\\hline\n",
       "\t 1948-01-01 & 3.4\\\\\n",
       "\t 1948-02-01 & 3.8\\\\\n",
       "\t 1948-03-01 & 4.0\\\\\n",
       "\t 1948-04-01 & 3.9\\\\\n",
       "\t 1948-05-01 & 3.5\\\\\n",
       "\t 1948-06-01 & 3.6\\\\\n",
       "\\end{tabular}\n"
      ],
      "text/markdown": [
       "\n",
       "A data.table: 6 × 2\n",
       "\n",
       "| DATE &lt;date&gt; | UNRATE &lt;dbl&gt; |\n",
       "|---|---|\n",
       "| 1948-01-01 | 3.4 |\n",
       "| 1948-02-01 | 3.8 |\n",
       "| 1948-03-01 | 4.0 |\n",
       "| 1948-04-01 | 3.9 |\n",
       "| 1948-05-01 | 3.5 |\n",
       "| 1948-06-01 | 3.6 |\n",
       "\n"
      ],
      "text/plain": [
       "  DATE       UNRATE\n",
       "1 1948-01-01 3.4   \n",
       "2 1948-02-01 3.8   \n",
       "3 1948-03-01 4.0   \n",
       "4 1948-04-01 3.9   \n",
       "5 1948-05-01 3.5   \n",
       "6 1948-06-01 3.6   "
      ]
     },
     "metadata": {},
     "output_type": "display_data"
    }
   ],
   "source": [
    "unemp[, DATE := as.Date(DATE)]\n",
    "head(unemp)"
   ]
  },
  {
   "cell_type": "markdown",
   "id": "f9fec2fa-8a45-4006-9e0d-c4035b55b103",
   "metadata": {},
   "source": [
    "Converte a coluna DATE de unemp, que provavelmente está em formato de texto, para o formato de data do R usando as.Date(). Essa operação é feita usando a sintaxe de data.table, que permite modificar a própria tabela por referência, ou seja, sem criar uma cópia. O símbolo := indica que a operação é uma atribuição por referência dentro da tabela."
   ]
  },
  {
   "cell_type": "code",
   "execution_count": 9,
   "id": "a73cf32d-3006-4612-978d-45b1ecd41d7e",
   "metadata": {},
   "outputs": [],
   "source": [
    "setkey(unemp, DATE)"
   ]
  },
  {
   "cell_type": "markdown",
   "id": "b72c2a1d-bb38-4df0-bda6-74accf6de749",
   "metadata": {},
   "source": [
    "Define a coluna DATE como chave da tabela unemp, o que melhora a eficiência em operações de agrupamento, ordenação e junções futuras, pois data.table utiliza essa chave para acelerar essas operações."
   ]
  },
  {
   "cell_type": "markdown",
   "id": "2d55e830-eb30-423d-81d0-5a359270ef73",
   "metadata": {},
   "source": [
    "Definir uma coluna como chave da tabela no `data.table` em R significa ordenar a tabela por essa coluna e marcar essa coluna como \"chave\". A chave funciona como um índice que permite operações muito mais rápidas em manipulações de dados, como filtragens, junções (joins) e agrupamentos.\n",
    "\n",
    "No exemplo da coluna `DATE` na tabela `unemp`:\n",
    "\n",
    "- A tabela `unemp` será reordenada em ordem crescente pela coluna `DATE`.\n",
    "- O `data.table` saberá que a coluna `DATE` é a chave, permitindo buscas e operações de filtragem baseadas nessa coluna serem executadas usando um algoritmo eficiente de busca binária.\n",
    "- Com a chave definida, você pode acessar rapidamente um intervalo de datas, fazer junções com outras tabelas chaveadas por essa mesma coluna, e o desempenho será maior do que em tabelas sem chave.\n",
    "\n",
    "Em suma, a chave em `data.table` é uma forma de otimização interna que ordena e indexa a tabela para acelerar consultas e operações que usam essa coluna como referência.\n",
    "***"
   ]
  },
  {
   "cell_type": "code",
   "execution_count": 14,
   "id": "9af8d0af-f46c-4c7a-a7a1-89c2e2216030",
   "metadata": {},
   "outputs": [],
   "source": [
    "rand.unemp.idx <- sample(1:nrow(unemp), .1*nrow(unemp))"
   ]
  },
  {
   "cell_type": "markdown",
   "id": "530d6637-ed97-4554-bff1-1a7c5c511780",
   "metadata": {},
   "source": [
    "- Gera uma amostra aleatória sem reposição de índices das linhas da tabela unemp.\n",
    "\n",
    "- 1:nrow(unemp) cria uma sequência de números de 1 até o número total de linhas da tabela.\n",
    "\n",
    "- .1*nrow(unemp) calcula 10% do número total de linhas.\n",
    "\n",
    "- A função sample() seleciona aleatoriamente esses índices correspondentes a 10% das linhas da tabela.\n",
    "\n",
    "- O resultado é armazenado no vetor rand.unemp.idx, que contém os índices das linhas sorteadas.\n"
   ]
  },
  {
   "cell_type": "code",
   "execution_count": 22,
   "id": "b8ecf01b-e089-4ba2-8117-88539aaa2802",
   "metadata": {},
   "outputs": [
    {
     "data": {
      "text/html": [
       "<table class=\"dataframe\">\n",
       "<caption>A data.table: 6 × 2</caption>\n",
       "<thead>\n",
       "\t<tr><th scope=col>DATE</th><th scope=col>UNRATE</th></tr>\n",
       "\t<tr><th scope=col>&lt;date&gt;</th><th scope=col>&lt;dbl&gt;</th></tr>\n",
       "</thead>\n",
       "<tbody>\n",
       "\t<tr><td>1948-01-01</td><td>3.4</td></tr>\n",
       "\t<tr><td>1948-03-01</td><td>4.0</td></tr>\n",
       "\t<tr><td>1948-05-01</td><td>3.5</td></tr>\n",
       "\t<tr><td>1948-07-01</td><td>3.6</td></tr>\n",
       "\t<tr><td>1948-08-01</td><td>3.9</td></tr>\n",
       "\t<tr><td>1948-10-01</td><td>3.7</td></tr>\n",
       "</tbody>\n",
       "</table>\n"
      ],
      "text/latex": [
       "A data.table: 6 × 2\n",
       "\\begin{tabular}{ll}\n",
       " DATE & UNRATE\\\\\n",
       " <date> & <dbl>\\\\\n",
       "\\hline\n",
       "\t 1948-01-01 & 3.4\\\\\n",
       "\t 1948-03-01 & 4.0\\\\\n",
       "\t 1948-05-01 & 3.5\\\\\n",
       "\t 1948-07-01 & 3.6\\\\\n",
       "\t 1948-08-01 & 3.9\\\\\n",
       "\t 1948-10-01 & 3.7\\\\\n",
       "\\end{tabular}\n"
      ],
      "text/markdown": [
       "\n",
       "A data.table: 6 × 2\n",
       "\n",
       "| DATE &lt;date&gt; | UNRATE &lt;dbl&gt; |\n",
       "|---|---|\n",
       "| 1948-01-01 | 3.4 |\n",
       "| 1948-03-01 | 4.0 |\n",
       "| 1948-05-01 | 3.5 |\n",
       "| 1948-07-01 | 3.6 |\n",
       "| 1948-08-01 | 3.9 |\n",
       "| 1948-10-01 | 3.7 |\n",
       "\n"
      ],
      "text/plain": [
       "  DATE       UNRATE\n",
       "1 1948-01-01 3.4   \n",
       "2 1948-03-01 4.0   \n",
       "3 1948-05-01 3.5   \n",
       "4 1948-07-01 3.6   \n",
       "5 1948-08-01 3.9   \n",
       "6 1948-10-01 3.7   "
      ]
     },
     "metadata": {},
     "output_type": "display_data"
    }
   ],
   "source": [
    "rand.unemp <- unemp[-rand.unemp.idx]\n",
    "head(rand.unemp)"
   ]
  },
  {
   "cell_type": "markdown",
   "id": "376a5e0e-a344-4a67-bc78-ad4fc6df6329",
   "metadata": {},
   "source": [
    "- Cria uma nova tabela rand.unemp que é uma cópia da tabela unemp, porém excluindo as linhas com os índices contidos em rand.unemp.idx.\n",
    "\n",
    "- O operador - na indexação significa \"excluir\" as linhas indicadas.\n",
    "\n",
    "- Ou seja, essa linha remove os 10% de linhas sorteadas aleatoriamente para formar um subconjunto menor dos dados, contendo os 90% restantes.\n",
    "\n",
    "***"
   ]
  },
  {
   "cell_type": "code",
   "execution_count": 16,
   "id": "e79327ff-2eb0-4313-b6e1-dd7e2c98325e",
   "metadata": {},
   "outputs": [],
   "source": [
    "high.unemp.idx <- which(unemp$UNRATE > 8)"
   ]
  },
  {
   "cell_type": "markdown",
   "id": "04a187cb-f0fd-44c6-b324-2b84e68e002f",
   "metadata": {},
   "source": [
    "Identifica os índices das linhas da tabela unemp onde a taxa de desemprego (UNRATE) é maior que 8%."
   ]
  },
  {
   "cell_type": "code",
   "execution_count": 17,
   "id": "0b4354f2-8b60-4fe8-bd11-32fccf02e24d",
   "metadata": {},
   "outputs": [],
   "source": [
    "high.unemp.idx <- sample(high.unemp.idx, .5 * length(high.unemp.idx))"
   ]
  },
  {
   "cell_type": "markdown",
   "id": "b2b444f8-3ac1-48b1-819f-78cc0f53ce95",
   "metadata": {},
   "source": [
    "A partir dos índices encontrados no passo anterior, seleciona aleatoriamente metade deles (50%) para uma amostra sem reposição, simulando a remoção parcial desses casos com desemprego alto."
   ]
  },
  {
   "cell_type": "code",
   "execution_count": 18,
   "id": "1f2d0221-b488-4cab-9acd-a243b82e9d88",
   "metadata": {},
   "outputs": [],
   "source": [
    "bias.unemp <- unemp[-high.unemp.idx]"
   ]
  },
  {
   "cell_type": "markdown",
   "id": "925b8d6d-7840-4b0d-87f7-709470e7f18b",
   "metadata": {},
   "source": [
    "Cria uma nova tabela bias.unemp removendo as linhas correspondentes aos índices sorteados, ou seja, exclui metade dos registros com desemprego maior que 8%."
   ]
  },
  {
   "cell_type": "markdown",
   "id": "3864cddd-2f08-4f3d-9e0a-ade4445cb1cc",
   "metadata": {},
   "source": [
    "A finalidade dessa operação é simular um viés na amostra, removendo parcialmente os casos de desemprego alto, o que pode representar uma situação de dados enviesados, onde certos grupos (no caso, altas taxas de desemprego) estão sub-representados por remoção ou ausência. Isso permite estudar como o viés e a falta de informações podem afetar análises estatísticas e modelos preditivos, exatamente como parte do estudo sobre tratamento e impacto de dados ausentes ou enviesados na base original.\n",
    "\n",
    "***"
   ]
  },
  {
   "cell_type": "code",
   "execution_count": 21,
   "id": "386d56ac-22d4-4cd0-875a-55fa608a9f6a",
   "metadata": {},
   "outputs": [
    {
     "data": {
      "text/html": [
       "<table class=\"dataframe\">\n",
       "<caption>A data.table: 6 × 2</caption>\n",
       "<thead>\n",
       "\t<tr><th scope=col>DATE</th><th scope=col>UNRATE</th></tr>\n",
       "\t<tr><th scope=col>&lt;date&gt;</th><th scope=col>&lt;dbl&gt;</th></tr>\n",
       "</thead>\n",
       "<tbody>\n",
       "\t<tr><td>1948-01-01</td><td>3.4</td></tr>\n",
       "\t<tr><td>1948-02-01</td><td>3.8</td></tr>\n",
       "\t<tr><td>1948-03-01</td><td>4.0</td></tr>\n",
       "\t<tr><td>1948-04-01</td><td>3.9</td></tr>\n",
       "\t<tr><td>1948-05-01</td><td>3.5</td></tr>\n",
       "\t<tr><td>1948-06-01</td><td>3.6</td></tr>\n",
       "</tbody>\n",
       "</table>\n"
      ],
      "text/latex": [
       "A data.table: 6 × 2\n",
       "\\begin{tabular}{ll}\n",
       " DATE & UNRATE\\\\\n",
       " <date> & <dbl>\\\\\n",
       "\\hline\n",
       "\t 1948-01-01 & 3.4\\\\\n",
       "\t 1948-02-01 & 3.8\\\\\n",
       "\t 1948-03-01 & 4.0\\\\\n",
       "\t 1948-04-01 & 3.9\\\\\n",
       "\t 1948-05-01 & 3.5\\\\\n",
       "\t 1948-06-01 & 3.6\\\\\n",
       "\\end{tabular}\n"
      ],
      "text/markdown": [
       "\n",
       "A data.table: 6 × 2\n",
       "\n",
       "| DATE &lt;date&gt; | UNRATE &lt;dbl&gt; |\n",
       "|---|---|\n",
       "| 1948-01-01 | 3.4 |\n",
       "| 1948-02-01 | 3.8 |\n",
       "| 1948-03-01 | 4.0 |\n",
       "| 1948-04-01 | 3.9 |\n",
       "| 1948-05-01 | 3.5 |\n",
       "| 1948-06-01 | 3.6 |\n",
       "\n"
      ],
      "text/plain": [
       "  DATE       UNRATE\n",
       "1 1948-01-01 3.4   \n",
       "2 1948-02-01 3.8   \n",
       "3 1948-03-01 4.0   \n",
       "4 1948-04-01 3.9   \n",
       "5 1948-05-01 3.5   \n",
       "6 1948-06-01 3.6   "
      ]
     },
     "metadata": {},
     "output_type": "display_data"
    },
    {
     "data": {
      "text/html": [
       "<style>\n",
       ".list-inline {list-style: none; margin:0; padding: 0}\n",
       ".list-inline>li {display: inline-block}\n",
       ".list-inline>li:not(:last-child)::after {content: \"\\00b7\"; padding: 0 .5ex}\n",
       "</style>\n",
       "<ol class=list-inline><li><time datetime=\"1948-01-01\">1948-01-01</time></li><li><time datetime=\"1948-02-01\">1948-02-01</time></li><li><time datetime=\"1948-03-01\">1948-03-01</time></li><li><time datetime=\"1948-04-01\">1948-04-01</time></li><li><time datetime=\"1948-05-01\">1948-05-01</time></li><li><time datetime=\"1948-06-01\">1948-06-01</time></li></ol>\n"
      ],
      "text/latex": [
       "\\begin{enumerate*}\n",
       "\\item 1948-01-01\n",
       "\\item 1948-02-01\n",
       "\\item 1948-03-01\n",
       "\\item 1948-04-01\n",
       "\\item 1948-05-01\n",
       "\\item 1948-06-01\n",
       "\\end{enumerate*}\n"
      ],
      "text/markdown": [
       "1. 1948-01-01\n",
       "2. 1948-02-01\n",
       "3. 1948-03-01\n",
       "4. 1948-04-01\n",
       "5. 1948-05-01\n",
       "6. 1948-06-01\n",
       "\n",
       "\n"
      ],
      "text/plain": [
       "[1] \"1948-01-01\" \"1948-02-01\" \"1948-03-01\" \"1948-04-01\" \"1948-05-01\"\n",
       "[6] \"1948-06-01\""
      ]
     },
     "metadata": {},
     "output_type": "display_data"
    }
   ],
   "source": [
    "head(unemp)\n",
    "all.dates <- seq(from = unemp$DATE[1], to = tail(unemp$DATE, 1), by = \"months\")\n",
    "head(all.dates)"
   ]
  },
  {
   "cell_type": "markdown",
   "id": "8cac88f5-3e02-40e4-839d-7aeaefd345f7",
   "metadata": {},
   "source": [
    "Gera uma sequência completa de datas mensais desde a primeira até a última data da tabela original unemp."
   ]
  },
  {
   "cell_type": "code",
   "execution_count": 32,
   "id": "29267d83-b44a-467c-8e7b-38f0c9884cc6",
   "metadata": {},
   "outputs": [],
   "source": [
    "rand.unemp = rand.unemp[J(all.dates), roll=0]\n",
    "bias.unemp = bias.unemp[J(all.dates), roll=0]"
   ]
  },
  {
   "cell_type": "markdown",
   "id": "d6a5933c-e964-45d6-bfb1-e3c7d6867167",
   "metadata": {},
   "source": [
    "- Executa uma rolling joins (junção rolante) entre a tabela rand.unemp e a sequência completa de datas gerada, com a ajuda da função J().\n",
    "\n",
    "- A chave para essa junção é a coluna de datas. O parâmetro roll=0 indica que a junção deve procurar uma correspondência exata para cada data; se não houver, será inserido um valor NA.\n",
    "\n",
    "- Essa operação essencialmente \"preenche\" as datas ausentes na série, introduzindo explicitamente linhas com NA onde o dado não existia, estabilizando a série temporal para análise mais rigorosa."
   ]
  },
  {
   "cell_type": "markdown",
   "id": "e6bc683d-b32f-4fc8-9a9c-cd06a3aba5cf",
   "metadata": {},
   "source": [
    "A sintaxe do `data.table` utiliza um sistema diferente dos parênteses comuns para funções em R, especialmente para facilitar operações de subset, join e manipulação eficiente de dados. Vamos destrinchar o caso específico:\n",
    "\n",
    "- O código `rand.unemp[J(all.dates), roll=0]` está dentro dos colchetes `[]` porque no `data.table` a operação básica é: `DT[i, j, by]` onde `i` serve para filtrar ou fazer join, `j` para selecionar ou calcular colunas e `by` para agrupamentos.\n",
    "\n",
    "- Aqui, `J(all.dates)` é um atalho para `list(all.dates)`, que cria uma lista usada para o índice `i` (linhas). É a forma que o `data.table` entende como fazer join da tabela principal com as chaves da lista.\n",
    "\n",
    "- O parâmetro `roll=0` não faz parte da função `J()`. Ele é passado como argumento do operador `[]` para controlar o comportamento do join, especificamente o tipo de \"rolling join\" a ser feito (neste caso, só aceita correspondência exata pois roll=0).\n",
    "\n",
    "- Em resumo, o que ocorre é:  \n",
    "  - Dentro do `[]`, o primeiro argumento `i` é `J(all.dates)`, que é a lista das chaves para o join.  \n",
    "  - Fora do `J()`, mas ainda dentro dos `[]`, está o parâmetro `roll=0` que regula o comportamento da junção.  \n",
    "  - O operador `[]` do `data.table` foi projetado para aceitar vários argumentos dessa forma (linha, coluna, opções join, etc.), diferente do formato usual de chamada de funções em R.\n",
    "\n",
    "Essa separação permite expressar com clareza operações complexas em tabelas, como joins com parâmetros específicos, mantendo um estilo compacto e eficiente. Portanto, `J()` apenas cria a lista de chaves dentro de `i`, enquanto `roll=0` é um argumento para a operação de join via `[]` do `data.table`."
   ]
  },
  {
   "cell_type": "code",
   "execution_count": 24,
   "id": "c5f61b4c-e686-488e-87ef-f5ffb7956726",
   "metadata": {},
   "outputs": [
    {
     "data": {
      "text/html": [
       "<table class=\"dataframe\">\n",
       "<caption>A data.table: 6 × 3</caption>\n",
       "<thead>\n",
       "\t<tr><th scope=col>DATE</th><th scope=col>UNRATE</th><th scope=col>rpt</th></tr>\n",
       "\t<tr><th scope=col>&lt;date&gt;</th><th scope=col>&lt;dbl&gt;</th><th scope=col>&lt;lgl&gt;</th></tr>\n",
       "</thead>\n",
       "<tbody>\n",
       "\t<tr><td>1948-01-01</td><td>3.4</td><td>FALSE</td></tr>\n",
       "\t<tr><td>1948-03-01</td><td>4.0</td><td>FALSE</td></tr>\n",
       "\t<tr><td>1948-05-01</td><td>3.5</td><td>FALSE</td></tr>\n",
       "\t<tr><td>1948-07-01</td><td>3.6</td><td>FALSE</td></tr>\n",
       "\t<tr><td>1948-08-01</td><td>3.9</td><td>FALSE</td></tr>\n",
       "\t<tr><td>1948-10-01</td><td>3.7</td><td>FALSE</td></tr>\n",
       "</tbody>\n",
       "</table>\n"
      ],
      "text/latex": [
       "A data.table: 6 × 3\n",
       "\\begin{tabular}{lll}\n",
       " DATE & UNRATE & rpt\\\\\n",
       " <date> & <dbl> & <lgl>\\\\\n",
       "\\hline\n",
       "\t 1948-01-01 & 3.4 & FALSE\\\\\n",
       "\t 1948-03-01 & 4.0 & FALSE\\\\\n",
       "\t 1948-05-01 & 3.5 & FALSE\\\\\n",
       "\t 1948-07-01 & 3.6 & FALSE\\\\\n",
       "\t 1948-08-01 & 3.9 & FALSE\\\\\n",
       "\t 1948-10-01 & 3.7 & FALSE\\\\\n",
       "\\end{tabular}\n"
      ],
      "text/markdown": [
       "\n",
       "A data.table: 6 × 3\n",
       "\n",
       "| DATE &lt;date&gt; | UNRATE &lt;dbl&gt; | rpt &lt;lgl&gt; |\n",
       "|---|---|---|\n",
       "| 1948-01-01 | 3.4 | FALSE |\n",
       "| 1948-03-01 | 4.0 | FALSE |\n",
       "| 1948-05-01 | 3.5 | FALSE |\n",
       "| 1948-07-01 | 3.6 | FALSE |\n",
       "| 1948-08-01 | 3.9 | FALSE |\n",
       "| 1948-10-01 | 3.7 | FALSE |\n",
       "\n"
      ],
      "text/plain": [
       "  DATE       UNRATE rpt  \n",
       "1 1948-01-01 3.4    FALSE\n",
       "2 1948-03-01 4.0    FALSE\n",
       "3 1948-05-01 3.5    FALSE\n",
       "4 1948-07-01 3.6    FALSE\n",
       "5 1948-08-01 3.9    FALSE\n",
       "6 1948-10-01 3.7    FALSE"
      ]
     },
     "metadata": {},
     "output_type": "display_data"
    }
   ],
   "source": [
    "rand.unemp[, rpt := is.na(UNRATE)]\n",
    "head(rand.unemp)"
   ]
  },
  {
   "cell_type": "markdown",
   "id": "fdfc470b-b6f9-4194-aca0-68450110b2b2",
   "metadata": {},
   "source": [
    "Cria uma coluna rpt em rand.unemp que indica se o valor da taxa de desemprego (UNRATE) está ausente (NA), identificando linhas com dados faltantes."
   ]
  }
 ],
 "metadata": {
  "kernelspec": {
   "display_name": "R",
   "language": "R",
   "name": "ir"
  },
  "language_info": {
   "codemirror_mode": "r",
   "file_extension": ".r",
   "mimetype": "text/x-r-source",
   "name": "R",
   "pygments_lexer": "r",
   "version": "4.5.1"
  }
 },
 "nbformat": 4,
 "nbformat_minor": 5
}
